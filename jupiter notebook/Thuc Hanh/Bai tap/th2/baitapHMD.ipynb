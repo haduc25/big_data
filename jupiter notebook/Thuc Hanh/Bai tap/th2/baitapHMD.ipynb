{
 "cells": [
  {
   "cell_type": "markdown",
   "id": "34c93f3a",
   "metadata": {},
   "source": [
    "# Bài tập thực hành\n",
    "\n",
    "Bài 1. Tạo 1 DataFrame tên 'df' từ mảng numpy array kích thước 20x5 các số nguyên có giá trị ngẫu nhiên từ 0 đến 20, với tên cột là ['c0','c1', 'c2'. 'c3', 'c4']. Hãy mô tả các thông số thống kê của 'df'. \n",
    "\n",
    "Bài 2. Thực hiện các thao tác sau với df:\n",
    "    \n",
    "    a. Hiển thị 4 entries đầu tiên và 2 entries cuối cùng của df\n",
    "    b. Hiển thị 10 phần tử đầu tiên của cột \"c1\"\n",
    "    c. Hiển thị 3 phần tử cuối cùng của cột \"c1\"\n",
    "    d. Bổ sung 1 cột \"c5\" gồm dãy các số 10.\n",
    "    e. Tìm phần tử có giá trị lớn nhất trong df.\n",
    "    f. Xóa hàng thứ 5 và cột 'c1' của df.\n",
    " \n",
    "Bài 3. Đọc file Salaries.csv vào dataframe tên df_salary và thực hiện các thao tác sau:\n",
    "\n",
    "    a. Xem kích thước của df_salary\n",
    "    b. Xem thông tin của df_salary\n",
    "    c. Mô tả thống kê các thông tin của df_salary\n",
    "    d. Xác định giá trị trung bình của trường thông tin lương cơ bản \"BasePay\"\n",
    "    e. Tính tổng số tiền trả ngoài giờ \"OvertimePay\"\n",
    "    f. Tìm tên của nhân viên có số tiền trả ngoài giờ \"OvertimePay\" cao nhất\n",
    "    g. Tìm tên của nhân viên được trả lương \"TotalPay\" cao nhất\n",
    "    h. Tìm nghề có mức lương cơ sở cao nhất.\n",
    "    i. Có bao nhiêu nghề nghiệp trong bảng?\n",
    "    j. Hãy thay thế các giá trị trống và thay thế bằng số 0.\n",
    "    "
   ]
  },
  {
   "cell_type": "markdown",
   "id": "91bfd7b9",
   "metadata": {},
   "source": [
    "## Bài 1"
   ]
  },
  {
   "cell_type": "code",
   "execution_count": 108,
   "id": "3136e86e",
   "metadata": {},
   "outputs": [
    {
     "data": {
      "text/html": [
       "<div>\n",
       "<style scoped>\n",
       "    .dataframe tbody tr th:only-of-type {\n",
       "        vertical-align: middle;\n",
       "    }\n",
       "\n",
       "    .dataframe tbody tr th {\n",
       "        vertical-align: top;\n",
       "    }\n",
       "\n",
       "    .dataframe thead th {\n",
       "        text-align: right;\n",
       "    }\n",
       "</style>\n",
       "<table border=\"1\" class=\"dataframe\">\n",
       "  <thead>\n",
       "    <tr style=\"text-align: right;\">\n",
       "      <th></th>\n",
       "      <th>c0</th>\n",
       "      <th>c1</th>\n",
       "      <th>c2</th>\n",
       "      <th>c3</th>\n",
       "      <th>c4</th>\n",
       "    </tr>\n",
       "  </thead>\n",
       "  <tbody>\n",
       "    <tr>\n",
       "      <th>count</th>\n",
       "      <td>20.000000</td>\n",
       "      <td>20.000000</td>\n",
       "      <td>20.000000</td>\n",
       "      <td>20.000000</td>\n",
       "      <td>20.000000</td>\n",
       "    </tr>\n",
       "    <tr>\n",
       "      <th>mean</th>\n",
       "      <td>11.450000</td>\n",
       "      <td>9.150000</td>\n",
       "      <td>10.150000</td>\n",
       "      <td>10.400000</td>\n",
       "      <td>8.700000</td>\n",
       "    </tr>\n",
       "    <tr>\n",
       "      <th>std</th>\n",
       "      <td>5.345682</td>\n",
       "      <td>6.768931</td>\n",
       "      <td>6.326843</td>\n",
       "      <td>5.133994</td>\n",
       "      <td>5.903612</td>\n",
       "    </tr>\n",
       "    <tr>\n",
       "      <th>min</th>\n",
       "      <td>1.000000</td>\n",
       "      <td>1.000000</td>\n",
       "      <td>0.000000</td>\n",
       "      <td>1.000000</td>\n",
       "      <td>0.000000</td>\n",
       "    </tr>\n",
       "    <tr>\n",
       "      <th>25%</th>\n",
       "      <td>6.750000</td>\n",
       "      <td>4.000000</td>\n",
       "      <td>6.000000</td>\n",
       "      <td>6.750000</td>\n",
       "      <td>3.750000</td>\n",
       "    </tr>\n",
       "    <tr>\n",
       "      <th>50%</th>\n",
       "      <td>11.500000</td>\n",
       "      <td>6.500000</td>\n",
       "      <td>9.000000</td>\n",
       "      <td>10.500000</td>\n",
       "      <td>8.000000</td>\n",
       "    </tr>\n",
       "    <tr>\n",
       "      <th>75%</th>\n",
       "      <td>16.000000</td>\n",
       "      <td>15.500000</td>\n",
       "      <td>16.500000</td>\n",
       "      <td>14.000000</td>\n",
       "      <td>15.000000</td>\n",
       "    </tr>\n",
       "    <tr>\n",
       "      <th>max</th>\n",
       "      <td>19.000000</td>\n",
       "      <td>19.000000</td>\n",
       "      <td>20.000000</td>\n",
       "      <td>18.000000</td>\n",
       "      <td>19.000000</td>\n",
       "    </tr>\n",
       "  </tbody>\n",
       "</table>\n",
       "</div>"
      ],
      "text/plain": [
       "              c0         c1         c2         c3         c4\n",
       "count  20.000000  20.000000  20.000000  20.000000  20.000000\n",
       "mean   11.450000   9.150000  10.150000  10.400000   8.700000\n",
       "std     5.345682   6.768931   6.326843   5.133994   5.903612\n",
       "min     1.000000   1.000000   0.000000   1.000000   0.000000\n",
       "25%     6.750000   4.000000   6.000000   6.750000   3.750000\n",
       "50%    11.500000   6.500000   9.000000  10.500000   8.000000\n",
       "75%    16.000000  15.500000  16.500000  14.000000  15.000000\n",
       "max    19.000000  19.000000  20.000000  18.000000  19.000000"
      ]
     },
     "execution_count": 108,
     "metadata": {},
     "output_type": "execute_result"
    }
   ],
   "source": [
    "import pandas as pd\n",
    "import numpy as np\n",
    "\n",
    "randomValue = np.random.randint(0, 21, size=(20, 5))\n",
    "columns=['c0', 'c1', 'c2', 'c3', 'c4']\n",
    "\n",
    "# create a df\n",
    "df = pd.DataFrame(randomValue, columns=columns)\n",
    "df.head()\n",
    "\n",
    "# Hiển thị thống kê mô tả cho dataframe\n",
    "df.describe()"
   ]
  },
  {
   "cell_type": "markdown",
   "id": "6f52c719",
   "metadata": {},
   "source": [
    "# Bài 2"
   ]
  },
  {
   "cell_type": "code",
   "execution_count": 63,
   "id": "7f1844c0",
   "metadata": {},
   "outputs": [
    {
     "name": "stdout",
     "output_type": "stream",
     "text": [
      "4 entries đầu tiên\n"
     ]
    },
    {
     "data": {
      "text/html": [
       "<div>\n",
       "<style scoped>\n",
       "    .dataframe tbody tr th:only-of-type {\n",
       "        vertical-align: middle;\n",
       "    }\n",
       "\n",
       "    .dataframe tbody tr th {\n",
       "        vertical-align: top;\n",
       "    }\n",
       "\n",
       "    .dataframe thead th {\n",
       "        text-align: right;\n",
       "    }\n",
       "</style>\n",
       "<table border=\"1\" class=\"dataframe\">\n",
       "  <thead>\n",
       "    <tr style=\"text-align: right;\">\n",
       "      <th></th>\n",
       "      <th>c0</th>\n",
       "      <th>c1</th>\n",
       "      <th>c2</th>\n",
       "      <th>c3</th>\n",
       "      <th>c4</th>\n",
       "    </tr>\n",
       "  </thead>\n",
       "  <tbody>\n",
       "    <tr>\n",
       "      <th>0</th>\n",
       "      <td>19</td>\n",
       "      <td>2</td>\n",
       "      <td>2</td>\n",
       "      <td>8</td>\n",
       "      <td>14</td>\n",
       "    </tr>\n",
       "    <tr>\n",
       "      <th>1</th>\n",
       "      <td>20</td>\n",
       "      <td>8</td>\n",
       "      <td>19</td>\n",
       "      <td>2</td>\n",
       "      <td>10</td>\n",
       "    </tr>\n",
       "    <tr>\n",
       "      <th>2</th>\n",
       "      <td>14</td>\n",
       "      <td>13</td>\n",
       "      <td>16</td>\n",
       "      <td>6</td>\n",
       "      <td>12</td>\n",
       "    </tr>\n",
       "    <tr>\n",
       "      <th>3</th>\n",
       "      <td>11</td>\n",
       "      <td>0</td>\n",
       "      <td>1</td>\n",
       "      <td>14</td>\n",
       "      <td>3</td>\n",
       "    </tr>\n",
       "  </tbody>\n",
       "</table>\n",
       "</div>"
      ],
      "text/plain": [
       "   c0  c1  c2  c3  c4\n",
       "0  19   2   2   8  14\n",
       "1  20   8  19   2  10\n",
       "2  14  13  16   6  12\n",
       "3  11   0   1  14   3"
      ]
     },
     "execution_count": 63,
     "metadata": {},
     "output_type": "execute_result"
    }
   ],
   "source": [
    "# a. Hiển thị 4 entries đầu tiên và 2 entries cuối cùng của df\n",
    "print('4 entries đầu tiên')\n",
    "df.head(4)"
   ]
  },
  {
   "cell_type": "code",
   "execution_count": 65,
   "id": "ef347f98",
   "metadata": {},
   "outputs": [
    {
     "name": "stdout",
     "output_type": "stream",
     "text": [
      "2 entries cuối cùng\n"
     ]
    },
    {
     "data": {
      "text/html": [
       "<div>\n",
       "<style scoped>\n",
       "    .dataframe tbody tr th:only-of-type {\n",
       "        vertical-align: middle;\n",
       "    }\n",
       "\n",
       "    .dataframe tbody tr th {\n",
       "        vertical-align: top;\n",
       "    }\n",
       "\n",
       "    .dataframe thead th {\n",
       "        text-align: right;\n",
       "    }\n",
       "</style>\n",
       "<table border=\"1\" class=\"dataframe\">\n",
       "  <thead>\n",
       "    <tr style=\"text-align: right;\">\n",
       "      <th></th>\n",
       "      <th>c0</th>\n",
       "      <th>c1</th>\n",
       "      <th>c2</th>\n",
       "      <th>c3</th>\n",
       "      <th>c4</th>\n",
       "    </tr>\n",
       "  </thead>\n",
       "  <tbody>\n",
       "    <tr>\n",
       "      <th>18</th>\n",
       "      <td>3</td>\n",
       "      <td>16</td>\n",
       "      <td>5</td>\n",
       "      <td>5</td>\n",
       "      <td>2</td>\n",
       "    </tr>\n",
       "    <tr>\n",
       "      <th>19</th>\n",
       "      <td>12</td>\n",
       "      <td>12</td>\n",
       "      <td>5</td>\n",
       "      <td>3</td>\n",
       "      <td>11</td>\n",
       "    </tr>\n",
       "  </tbody>\n",
       "</table>\n",
       "</div>"
      ],
      "text/plain": [
       "    c0  c1  c2  c3  c4\n",
       "18   3  16   5   5   2\n",
       "19  12  12   5   3  11"
      ]
     },
     "execution_count": 65,
     "metadata": {},
     "output_type": "execute_result"
    }
   ],
   "source": [
    "print('2 entries cuối cùng')\n",
    "df.tail(2)"
   ]
  },
  {
   "cell_type": "code",
   "execution_count": 71,
   "id": "0eee1c52",
   "metadata": {},
   "outputs": [
    {
     "name": "stdout",
     "output_type": "stream",
     "text": [
      "10 phần tử đầu của cột 'c1'\n"
     ]
    },
    {
     "data": {
      "text/plain": [
       "0     2\n",
       "1     8\n",
       "2    13\n",
       "3     0\n",
       "4     0\n",
       "5    13\n",
       "6     9\n",
       "7    11\n",
       "8     3\n",
       "9    14\n",
       "Name: c1, dtype: int32"
      ]
     },
     "execution_count": 71,
     "metadata": {},
     "output_type": "execute_result"
    }
   ],
   "source": [
    "# b. Hiển thị 10 phần tử đầu tiên của cột \"c1\"\n",
    "print('10 phần tử đầu của cột \\'c1\\'')\n",
    "df['c1'].head(10)"
   ]
  },
  {
   "cell_type": "code",
   "execution_count": 73,
   "id": "bb98ca00",
   "metadata": {},
   "outputs": [
    {
     "name": "stdout",
     "output_type": "stream",
     "text": [
      "3 phần tử cuối cùng của cột 'c1'\n"
     ]
    },
    {
     "data": {
      "text/plain": [
       "17     4\n",
       "18    16\n",
       "19    12\n",
       "Name: c1, dtype: int32"
      ]
     },
     "execution_count": 73,
     "metadata": {},
     "output_type": "execute_result"
    }
   ],
   "source": [
    "# c. Hiển thị 3 phần tử cuối cùng của cột \"c1\"\n",
    "print('3 phần tử cuối cùng của cột \\'c1\\'')\n",
    "df['c1'].tail(3)"
   ]
  },
  {
   "cell_type": "code",
   "execution_count": 109,
   "id": "132c8a4e",
   "metadata": {},
   "outputs": [
    {
     "name": "stdout",
     "output_type": "stream",
     "text": [
      "df sau khi thêm cột 'c5' với giá trị là 10\n",
      "\n",
      "    c0  c1  c2  c3  c4  c5\n",
      "0   16   6  16  17   8  10\n",
      "1   14  13  12   9   2  10\n",
      "2    7   1   9   1   8  10\n",
      "3   18  14   6  14   7  10\n",
      "4   12   1   8  18  19  10\n",
      "5    5  19  18  15  15  10\n",
      "6   10  17  18  10   9  10\n",
      "7   18  18   9   7  16  10\n",
      "8   19  19  20  10   3  10\n",
      "9   14   1  10  13   9  10\n",
      "10  19  17   6  13   6  10\n",
      "11  12  12  19  11   4  10\n",
      "12  11   7   0  14  17  10\n",
      "13   1   5   3   4   6  10\n",
      "14   5   4   7   9  15  10\n",
      "15  11  15   4   6   3  10\n",
      "16  16   4   6  13   9  10\n",
      "17   5   5   2  18   0  10\n",
      "18   6   1  20   3  17  10\n",
      "19  10   4  10   3   1  10\n"
     ]
    }
   ],
   "source": [
    "# d. Bổ sung 1 cột \"c5\" gồm dãy các số 10.\n",
    "\n",
    "# tạo ra 1 array với columns = chiều dài randomValue | randomValue = 20\n",
    "arr = np.full(len(randomValue), 10) # [10, 10, 10, 10, 10, 10, 10, 10, 10, 10]\n",
    "df['c5'] = arr\n",
    "print('df sau khi thêm cột \\'c5\\' với giá trị là 10', end='\\n\\n')\n",
    "print(df)\n"
   ]
  },
  {
   "cell_type": "code",
   "execution_count": 110,
   "id": "66250f2f",
   "metadata": {},
   "outputs": [
    {
     "name": "stdout",
     "output_type": "stream",
     "text": [
      "Giá trị lớn nhất trong df: 20\n"
     ]
    }
   ],
   "source": [
    "# e. Tìm phần tử có giá trị lớn nhất trong df.\n",
    "maxValue = df.max().max()\n",
    "print(f'Giá trị lớn nhất trong df: {maxValue}')"
   ]
  },
  {
   "cell_type": "code",
   "execution_count": 111,
   "id": "f265fbed",
   "metadata": {},
   "outputs": [
    {
     "name": "stdout",
     "output_type": "stream",
     "text": [
      "df sau khi xóa\n",
      "    c0  c2  c3  c4  c5\n",
      "0   16  16  17   8  10\n",
      "1   14  12   9   2  10\n",
      "2    7   9   1   8  10\n",
      "3   18   6  14   7  10\n",
      "5    5  18  15  15  10\n",
      "6   10  18  10   9  10\n",
      "7   18   9   7  16  10\n",
      "8   19  20  10   3  10\n",
      "9   14  10  13   9  10\n",
      "10  19   6  13   6  10\n",
      "11  12  19  11   4  10\n",
      "12  11   0  14  17  10\n",
      "13   1   3   4   6  10\n",
      "14   5   7   9  15  10\n",
      "15  11   4   6   3  10\n",
      "16  16   6  13   9  10\n",
      "17   5   2  18   0  10\n",
      "18   6  20   3  17  10\n",
      "19  10  10   3   1  10\n"
     ]
    }
   ],
   "source": [
    "# f. Xóa hàng thứ 5 và cột 'c1' của df.\n",
    "\"\"\"\n",
    "drop('c1', axis=1): xóa cột 'c1', axis=1: xóa cột\n",
    "drop(4, axis=0): xóa hàng thứ 5, axis=0: xóa hàng\n",
    "\"\"\"\n",
    "df = df.drop('c1', axis=1).drop(4, axis=0)\n",
    "print('df sau khi xóa')\n",
    "print(df)"
   ]
  },
  {
   "cell_type": "markdown",
   "id": "bb52f3aa",
   "metadata": {},
   "source": [
    "## Bài 3"
   ]
  },
  {
   "cell_type": "code",
   "execution_count": 218,
   "id": "439dc607",
   "metadata": {},
   "outputs": [
    {
     "data": {
      "text/plain": [
       "1932502"
      ]
     },
     "execution_count": 218,
     "metadata": {},
     "output_type": "execute_result"
    }
   ],
   "source": [
    "# Đọc từ file csv vào dataframe\n",
    "df_salary = pd.read_csv(\"data/Salaries.csv\")\n",
    "\n",
    "# a. Xem kích thước của df_salary\n",
    "df_salary.size #1932502"
   ]
  },
  {
   "cell_type": "code",
   "execution_count": 219,
   "id": "b950693b",
   "metadata": {},
   "outputs": [
    {
     "name": "stdout",
     "output_type": "stream",
     "text": [
      "<class 'pandas.core.frame.DataFrame'>\n",
      "RangeIndex: 148654 entries, 0 to 148653\n",
      "Data columns (total 13 columns):\n",
      " #   Column            Non-Null Count   Dtype  \n",
      "---  ------            --------------   -----  \n",
      " 0   Id                148654 non-null  int64  \n",
      " 1   EmployeeName      148654 non-null  object \n",
      " 2   JobTitle          148654 non-null  object \n",
      " 3   BasePay           148045 non-null  float64\n",
      " 4   OvertimePay       148650 non-null  float64\n",
      " 5   OtherPay          148650 non-null  float64\n",
      " 6   Benefits          112491 non-null  float64\n",
      " 7   TotalPay          148654 non-null  float64\n",
      " 8   TotalPayBenefits  148654 non-null  float64\n",
      " 9   Year              148654 non-null  int64  \n",
      " 10  Notes             0 non-null       float64\n",
      " 11  Agency            148654 non-null  object \n",
      " 12  Status            0 non-null       float64\n",
      "dtypes: float64(8), int64(2), object(3)\n",
      "memory usage: 14.7+ MB\n"
     ]
    }
   ],
   "source": [
    "# b. Xem thông tin của df_salary\n",
    "df_salary.info()"
   ]
  },
  {
   "cell_type": "code",
   "execution_count": 220,
   "id": "7404d0a7",
   "metadata": {},
   "outputs": [
    {
     "data": {
      "text/html": [
       "<div>\n",
       "<style scoped>\n",
       "    .dataframe tbody tr th:only-of-type {\n",
       "        vertical-align: middle;\n",
       "    }\n",
       "\n",
       "    .dataframe tbody tr th {\n",
       "        vertical-align: top;\n",
       "    }\n",
       "\n",
       "    .dataframe thead th {\n",
       "        text-align: right;\n",
       "    }\n",
       "</style>\n",
       "<table border=\"1\" class=\"dataframe\">\n",
       "  <thead>\n",
       "    <tr style=\"text-align: right;\">\n",
       "      <th></th>\n",
       "      <th>Id</th>\n",
       "      <th>BasePay</th>\n",
       "      <th>OvertimePay</th>\n",
       "      <th>OtherPay</th>\n",
       "      <th>Benefits</th>\n",
       "      <th>TotalPay</th>\n",
       "      <th>TotalPayBenefits</th>\n",
       "      <th>Year</th>\n",
       "      <th>Notes</th>\n",
       "      <th>Status</th>\n",
       "    </tr>\n",
       "  </thead>\n",
       "  <tbody>\n",
       "    <tr>\n",
       "      <th>count</th>\n",
       "      <td>148654.000000</td>\n",
       "      <td>148045.000000</td>\n",
       "      <td>148650.000000</td>\n",
       "      <td>148650.000000</td>\n",
       "      <td>112491.000000</td>\n",
       "      <td>148654.000000</td>\n",
       "      <td>148654.000000</td>\n",
       "      <td>148654.000000</td>\n",
       "      <td>0.0</td>\n",
       "      <td>0.0</td>\n",
       "    </tr>\n",
       "    <tr>\n",
       "      <th>mean</th>\n",
       "      <td>74327.500000</td>\n",
       "      <td>66325.448840</td>\n",
       "      <td>5066.059886</td>\n",
       "      <td>3648.767297</td>\n",
       "      <td>25007.893151</td>\n",
       "      <td>74768.321972</td>\n",
       "      <td>93692.554811</td>\n",
       "      <td>2012.522643</td>\n",
       "      <td>NaN</td>\n",
       "      <td>NaN</td>\n",
       "    </tr>\n",
       "    <tr>\n",
       "      <th>std</th>\n",
       "      <td>42912.857795</td>\n",
       "      <td>42764.635495</td>\n",
       "      <td>11454.380559</td>\n",
       "      <td>8056.601866</td>\n",
       "      <td>15402.215858</td>\n",
       "      <td>50517.005274</td>\n",
       "      <td>62793.533483</td>\n",
       "      <td>1.117538</td>\n",
       "      <td>NaN</td>\n",
       "      <td>NaN</td>\n",
       "    </tr>\n",
       "    <tr>\n",
       "      <th>min</th>\n",
       "      <td>1.000000</td>\n",
       "      <td>-166.010000</td>\n",
       "      <td>-0.010000</td>\n",
       "      <td>-7058.590000</td>\n",
       "      <td>-33.890000</td>\n",
       "      <td>-618.130000</td>\n",
       "      <td>-618.130000</td>\n",
       "      <td>2011.000000</td>\n",
       "      <td>NaN</td>\n",
       "      <td>NaN</td>\n",
       "    </tr>\n",
       "    <tr>\n",
       "      <th>25%</th>\n",
       "      <td>37164.250000</td>\n",
       "      <td>33588.200000</td>\n",
       "      <td>0.000000</td>\n",
       "      <td>0.000000</td>\n",
       "      <td>11535.395000</td>\n",
       "      <td>36168.995000</td>\n",
       "      <td>44065.650000</td>\n",
       "      <td>2012.000000</td>\n",
       "      <td>NaN</td>\n",
       "      <td>NaN</td>\n",
       "    </tr>\n",
       "    <tr>\n",
       "      <th>50%</th>\n",
       "      <td>74327.500000</td>\n",
       "      <td>65007.450000</td>\n",
       "      <td>0.000000</td>\n",
       "      <td>811.270000</td>\n",
       "      <td>28628.620000</td>\n",
       "      <td>71426.610000</td>\n",
       "      <td>92404.090000</td>\n",
       "      <td>2013.000000</td>\n",
       "      <td>NaN</td>\n",
       "      <td>NaN</td>\n",
       "    </tr>\n",
       "    <tr>\n",
       "      <th>75%</th>\n",
       "      <td>111490.750000</td>\n",
       "      <td>94691.050000</td>\n",
       "      <td>4658.175000</td>\n",
       "      <td>4236.065000</td>\n",
       "      <td>35566.855000</td>\n",
       "      <td>105839.135000</td>\n",
       "      <td>132876.450000</td>\n",
       "      <td>2014.000000</td>\n",
       "      <td>NaN</td>\n",
       "      <td>NaN</td>\n",
       "    </tr>\n",
       "    <tr>\n",
       "      <th>max</th>\n",
       "      <td>148654.000000</td>\n",
       "      <td>319275.010000</td>\n",
       "      <td>245131.880000</td>\n",
       "      <td>400184.250000</td>\n",
       "      <td>96570.660000</td>\n",
       "      <td>567595.430000</td>\n",
       "      <td>567595.430000</td>\n",
       "      <td>2014.000000</td>\n",
       "      <td>NaN</td>\n",
       "      <td>NaN</td>\n",
       "    </tr>\n",
       "  </tbody>\n",
       "</table>\n",
       "</div>"
      ],
      "text/plain": [
       "                  Id        BasePay    OvertimePay       OtherPay  \\\n",
       "count  148654.000000  148045.000000  148650.000000  148650.000000   \n",
       "mean    74327.500000   66325.448840    5066.059886    3648.767297   \n",
       "std     42912.857795   42764.635495   11454.380559    8056.601866   \n",
       "min         1.000000    -166.010000      -0.010000   -7058.590000   \n",
       "25%     37164.250000   33588.200000       0.000000       0.000000   \n",
       "50%     74327.500000   65007.450000       0.000000     811.270000   \n",
       "75%    111490.750000   94691.050000    4658.175000    4236.065000   \n",
       "max    148654.000000  319275.010000  245131.880000  400184.250000   \n",
       "\n",
       "            Benefits       TotalPay  TotalPayBenefits           Year  Notes  \\\n",
       "count  112491.000000  148654.000000     148654.000000  148654.000000    0.0   \n",
       "mean    25007.893151   74768.321972      93692.554811    2012.522643    NaN   \n",
       "std     15402.215858   50517.005274      62793.533483       1.117538    NaN   \n",
       "min       -33.890000    -618.130000       -618.130000    2011.000000    NaN   \n",
       "25%     11535.395000   36168.995000      44065.650000    2012.000000    NaN   \n",
       "50%     28628.620000   71426.610000      92404.090000    2013.000000    NaN   \n",
       "75%     35566.855000  105839.135000     132876.450000    2014.000000    NaN   \n",
       "max     96570.660000  567595.430000     567595.430000    2014.000000    NaN   \n",
       "\n",
       "       Status  \n",
       "count     0.0  \n",
       "mean      NaN  \n",
       "std       NaN  \n",
       "min       NaN  \n",
       "25%       NaN  \n",
       "50%       NaN  \n",
       "75%       NaN  \n",
       "max       NaN  "
      ]
     },
     "execution_count": 220,
     "metadata": {},
     "output_type": "execute_result"
    }
   ],
   "source": [
    "# c. Mô tả thống kê các thông tin của df_salary\n",
    "df_salary.describe()"
   ]
  },
  {
   "cell_type": "code",
   "execution_count": 221,
   "id": "e6d09914",
   "metadata": {},
   "outputs": [
    {
     "name": "stdout",
     "output_type": "stream",
     "text": [
      "DataFrame k có giá trị NaN.\n",
      "CASE 1 - Giá trị trung bình của trường thông tin lương cơ bản \"BasePay\" là:  66053.72928807836\n",
      "CASE 2 - Giá trị trung bình của trường thông tin lương cơ bản \"BasePay\" là:  66053.72928807836\n"
     ]
    }
   ],
   "source": [
    "# d. Xác định giá trị trung bình của trường thông tin lương cơ bản \"BasePay\"\n",
    "\n",
    "# CASE 1: using np.average()\n",
    "# nếu có giá trị NaN chuyển về 0\n",
    "df_salary['BasePay'] = df_salary['BasePay'].fillna(0)\n",
    "\n",
    "# kt xem còn có giá trị NaN hay k?\n",
    "has_nan = df_salary['BasePay'].isna().any().any()\n",
    "\n",
    "if has_nan:\n",
    "    print(\"DataFrame có giá trị NaN.\")\n",
    "else:\n",
    "    print(\"DataFrame k có giá trị NaN.\")\n",
    "\n",
    "# sử dụng numpy.average()\n",
    "value = np.average(df_salary['BasePay'])\n",
    "print('CASE 1 - Giá trị trung bình của trường thông tin lương cơ bản \"BasePay\" là: ', value)\n",
    "\n",
    "# CASE 2: using df.mean()\n",
    "avgOfBasePay = df_salary['BasePay'].mean()\n",
    "print('CASE 2 - Giá trị trung bình của trường thông tin lương cơ bản \"BasePay\" là: ', avgOfBasePay)\n"
   ]
  },
  {
   "cell_type": "code",
   "execution_count": 222,
   "id": "cf1bc83d",
   "metadata": {},
   "outputs": [
    {
     "name": "stdout",
     "output_type": "stream",
     "text": [
      "DataFrame k có giá trị NaN.\n",
      "CASE 1 - Tổng số tiền trả ngoài giờ \"OvertimePay\" là:  753069802.1199998\n",
      "CASE 2 - Tổng số tiền trả ngoài giờ \"OvertimePay\" là:  753069802.1199998\n"
     ]
    }
   ],
   "source": [
    "# e. Tính tổng số tiền trả ngoài giờ \"OvertimePay\"\n",
    "\n",
    "# CASE 1: using np.sum()\n",
    "# nếu có giá trị NaN chuyển về 0\n",
    "df_salary['OvertimePay'] = df_salary['OvertimePay'].fillna(0)\n",
    "\n",
    "# kt xem còn có giá trị NaN hay k?\n",
    "has_nan = df_salary['OvertimePay'].isna().any().any()\n",
    "\n",
    "if has_nan:\n",
    "    print(\"DataFrame có giá trị NaN.\")\n",
    "else:\n",
    "    print(\"DataFrame k có giá trị NaN.\")\n",
    "\n",
    "# sử dụng numpy.average()\n",
    "value = np.sum(df_salary['OvertimePay'])\n",
    "print('CASE 1 - Tổng số tiền trả ngoài giờ \"OvertimePay\" là: ', value)\n",
    "\n",
    "# CASE 2: using df.mean()\n",
    "sumOfOvertimePay = df_salary['OvertimePay'].sum()\n",
    "print('CASE 2 - Tổng số tiền trả ngoài giờ \"OvertimePay\" là: ', sumOfOvertimePay)"
   ]
  },
  {
   "cell_type": "code",
   "execution_count": 223,
   "id": "7a2e9379",
   "metadata": {},
   "outputs": [
    {
     "name": "stdout",
     "output_type": "stream",
     "text": [
      "Tên của nhân viên có số tiền trả ngoài giờ \"OvertimePay\" cao nhất là : GARY JIMENEZ\n"
     ]
    }
   ],
   "source": [
    "# e, Tìm tên của nhân viên có số tiền trả ngoài giờ \"OvertimePay\" cao nhất\n",
    "\n",
    "# using pandas.DataFrame.idxmax()\n",
    "\"\"\"\n",
    "df_salary['OvertimePay'].idxmax(): trả về giá trị lớn nhất trong cột 'OvertimePay'\n",
    "\"\"\"\n",
    "maxValueInColumns = df_salary['OvertimePay'].idxmax()\n",
    "\n",
    "maxSalary = df_salary.loc[maxValueInColumns, 'EmployeeName']\n",
    "\n",
    "print('Tên của nhân viên có số tiền trả ngoài giờ \"OvertimePay\" cao nhất là :', maxSalary)"
   ]
  },
  {
   "cell_type": "code",
   "execution_count": 224,
   "id": "0de5fd94",
   "metadata": {},
   "outputs": [
    {
     "name": "stdout",
     "output_type": "stream",
     "text": [
      "Tên của nhân viên được trả lương \"TotalPay\" cao nhất là : NATHANIEL FORD\n"
     ]
    }
   ],
   "source": [
    "# g. Tìm tên của nhân viên được trả lương \"TotalPay\" cao nhất\n",
    "\n",
    "# using pandas.DataFrame.idxmax()\n",
    "maxValueInColumns = df_salary['TotalPay'].idxmax()\n",
    "\n",
    "maxSalary = df_salary.loc[maxValueInColumns, 'EmployeeName']\n",
    "\n",
    "print('Tên của nhân viên được trả lương \"TotalPay\" cao nhất là :', maxSalary)"
   ]
  },
  {
   "cell_type": "code",
   "execution_count": 225,
   "id": "f0a01873",
   "metadata": {},
   "outputs": [
    {
     "name": "stdout",
     "output_type": "stream",
     "text": [
      "Nghề có mức lương cơ sở cao nhất là : Chief of Police\n"
     ]
    }
   ],
   "source": [
    "# h. Tìm nghề có mức lương cơ sở cao nhất.\n",
    "\n",
    "\n",
    "# using pandas.DataFrame.groupby()\n",
    "\"\"\"\n",
    "groupby('JobTitle'): nhóm các dữ liệu trong df theo 'JobTitle'\n",
    "['BasePay'].mean(): tính giá trị trung bình\n",
    "idxmax(): tìm ra giá trị lớn nhất trong giá trị trung bình vừa tính được\n",
    "\"\"\"\n",
    "highestOfJob = df_salary.groupby('JobTitle')['BasePay'].mean().idxmax()\n",
    "\n",
    "print('Nghề có mức lương cơ sở cao nhất là :', highestOfJob)"
   ]
  },
  {
   "cell_type": "code",
   "execution_count": 226,
   "id": "e78b0d08",
   "metadata": {},
   "outputs": [
    {
     "name": "stdout",
     "output_type": "stream",
     "text": [
      "Số nghề nghiệp có trong bảng là : 2159\n"
     ]
    }
   ],
   "source": [
    "# i. Có bao nhiêu nghề nghiệp trong bảng?\n",
    "\n",
    "# Lấy ra ds các nghề nghiệp khác nhau\n",
    "manyJob = df_salary['JobTitle'].unique()\n",
    "\n",
    "print('Số nghề nghiệp có trong bảng là :', len(manyJob))"
   ]
  },
  {
   "cell_type": "code",
   "execution_count": 227,
   "id": "5a158679",
   "metadata": {},
   "outputs": [
    {
     "name": "stdout",
     "output_type": "stream",
     "text": [
      "DataFrame k có giá trị NaN.\n"
     ]
    }
   ],
   "source": [
    "# j. Hãy thay thế các giá trị trống và thay thế bằng số 0.\n",
    "\n",
    "# kt xem còn có giá trị NaN hay k?\n",
    "df = df.fillna(0)\n",
    "\n",
    "if has_nan:\n",
    "    print(\"DataFrame có giá trị NaN.\")\n",
    "else:\n",
    "    print(\"DataFrame k có giá trị NaN.\")\n"
   ]
  },
  {
   "cell_type": "code",
   "execution_count": null,
   "id": "948d5d98",
   "metadata": {},
   "outputs": [],
   "source": []
  }
 ],
 "metadata": {
  "kernelspec": {
   "display_name": "Python 3 (ipykernel)",
   "language": "python",
   "name": "python3"
  },
  "language_info": {
   "codemirror_mode": {
    "name": "ipython",
    "version": 3
   },
   "file_extension": ".py",
   "mimetype": "text/x-python",
   "name": "python",
   "nbconvert_exporter": "python",
   "pygments_lexer": "ipython3",
   "version": "3.8.12"
  }
 },
 "nbformat": 4,
 "nbformat_minor": 5
}
