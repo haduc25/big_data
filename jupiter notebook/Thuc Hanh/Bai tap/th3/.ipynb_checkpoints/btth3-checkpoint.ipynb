{
 "cells": [
  {
   "cell_type": "markdown",
   "id": "a358b095",
   "metadata": {},
   "source": [
    "Bài 1. Hãy dùng hàm `groupby` để hiển thị trung bình lương (TotalPay) theo năm (Year)."
   ]
  },
  {
   "cell_type": "code",
   "execution_count": 1,
   "id": "e348714f",
   "metadata": {},
   "outputs": [
    {
     "data": {
      "text/html": [
       "<div>\n",
       "<style scoped>\n",
       "    .dataframe tbody tr th:only-of-type {\n",
       "        vertical-align: middle;\n",
       "    }\n",
       "\n",
       "    .dataframe tbody tr th {\n",
       "        vertical-align: top;\n",
       "    }\n",
       "\n",
       "    .dataframe thead th {\n",
       "        text-align: right;\n",
       "    }\n",
       "</style>\n",
       "<table border=\"1\" class=\"dataframe\">\n",
       "  <thead>\n",
       "    <tr style=\"text-align: right;\">\n",
       "      <th></th>\n",
       "      <th>Id</th>\n",
       "      <th>EmployeeName</th>\n",
       "      <th>JobTitle</th>\n",
       "      <th>BasePay</th>\n",
       "      <th>OvertimePay</th>\n",
       "      <th>OtherPay</th>\n",
       "      <th>Benefits</th>\n",
       "      <th>TotalPay</th>\n",
       "      <th>TotalPayBenefits</th>\n",
       "      <th>Year</th>\n",
       "      <th>Notes</th>\n",
       "      <th>Agency</th>\n",
       "      <th>Status</th>\n",
       "    </tr>\n",
       "  </thead>\n",
       "  <tbody>\n",
       "    <tr>\n",
       "      <th>0</th>\n",
       "      <td>1</td>\n",
       "      <td>NATHANIEL FORD</td>\n",
       "      <td>GENERAL MANAGER-METROPOLITAN TRANSIT AUTHORITY</td>\n",
       "      <td>167411.18</td>\n",
       "      <td>0.00</td>\n",
       "      <td>400184.25</td>\n",
       "      <td>NaN</td>\n",
       "      <td>567595.43</td>\n",
       "      <td>567595.43</td>\n",
       "      <td>2011</td>\n",
       "      <td>NaN</td>\n",
       "      <td>San Francisco</td>\n",
       "      <td>NaN</td>\n",
       "    </tr>\n",
       "    <tr>\n",
       "      <th>1</th>\n",
       "      <td>2</td>\n",
       "      <td>GARY JIMENEZ</td>\n",
       "      <td>CAPTAIN III (POLICE DEPARTMENT)</td>\n",
       "      <td>155966.02</td>\n",
       "      <td>245131.88</td>\n",
       "      <td>137811.38</td>\n",
       "      <td>NaN</td>\n",
       "      <td>538909.28</td>\n",
       "      <td>538909.28</td>\n",
       "      <td>2011</td>\n",
       "      <td>NaN</td>\n",
       "      <td>San Francisco</td>\n",
       "      <td>NaN</td>\n",
       "    </tr>\n",
       "    <tr>\n",
       "      <th>2</th>\n",
       "      <td>3</td>\n",
       "      <td>ALBERT PARDINI</td>\n",
       "      <td>CAPTAIN III (POLICE DEPARTMENT)</td>\n",
       "      <td>212739.13</td>\n",
       "      <td>106088.18</td>\n",
       "      <td>16452.60</td>\n",
       "      <td>NaN</td>\n",
       "      <td>335279.91</td>\n",
       "      <td>335279.91</td>\n",
       "      <td>2011</td>\n",
       "      <td>NaN</td>\n",
       "      <td>San Francisco</td>\n",
       "      <td>NaN</td>\n",
       "    </tr>\n",
       "    <tr>\n",
       "      <th>3</th>\n",
       "      <td>4</td>\n",
       "      <td>CHRISTOPHER CHONG</td>\n",
       "      <td>WIRE ROPE CABLE MAINTENANCE MECHANIC</td>\n",
       "      <td>77916.00</td>\n",
       "      <td>56120.71</td>\n",
       "      <td>198306.90</td>\n",
       "      <td>NaN</td>\n",
       "      <td>332343.61</td>\n",
       "      <td>332343.61</td>\n",
       "      <td>2011</td>\n",
       "      <td>NaN</td>\n",
       "      <td>San Francisco</td>\n",
       "      <td>NaN</td>\n",
       "    </tr>\n",
       "    <tr>\n",
       "      <th>4</th>\n",
       "      <td>5</td>\n",
       "      <td>PATRICK GARDNER</td>\n",
       "      <td>DEPUTY CHIEF OF DEPARTMENT,(FIRE DEPARTMENT)</td>\n",
       "      <td>134401.60</td>\n",
       "      <td>9737.00</td>\n",
       "      <td>182234.59</td>\n",
       "      <td>NaN</td>\n",
       "      <td>326373.19</td>\n",
       "      <td>326373.19</td>\n",
       "      <td>2011</td>\n",
       "      <td>NaN</td>\n",
       "      <td>San Francisco</td>\n",
       "      <td>NaN</td>\n",
       "    </tr>\n",
       "  </tbody>\n",
       "</table>\n",
       "</div>"
      ],
      "text/plain": [
       "   Id       EmployeeName                                        JobTitle  \\\n",
       "0   1     NATHANIEL FORD  GENERAL MANAGER-METROPOLITAN TRANSIT AUTHORITY   \n",
       "1   2       GARY JIMENEZ                 CAPTAIN III (POLICE DEPARTMENT)   \n",
       "2   3     ALBERT PARDINI                 CAPTAIN III (POLICE DEPARTMENT)   \n",
       "3   4  CHRISTOPHER CHONG            WIRE ROPE CABLE MAINTENANCE MECHANIC   \n",
       "4   5    PATRICK GARDNER    DEPUTY CHIEF OF DEPARTMENT,(FIRE DEPARTMENT)   \n",
       "\n",
       "     BasePay  OvertimePay   OtherPay  Benefits   TotalPay  TotalPayBenefits  \\\n",
       "0  167411.18         0.00  400184.25       NaN  567595.43         567595.43   \n",
       "1  155966.02    245131.88  137811.38       NaN  538909.28         538909.28   \n",
       "2  212739.13    106088.18   16452.60       NaN  335279.91         335279.91   \n",
       "3   77916.00     56120.71  198306.90       NaN  332343.61         332343.61   \n",
       "4  134401.60      9737.00  182234.59       NaN  326373.19         326373.19   \n",
       "\n",
       "   Year  Notes         Agency  Status  \n",
       "0  2011    NaN  San Francisco     NaN  \n",
       "1  2011    NaN  San Francisco     NaN  \n",
       "2  2011    NaN  San Francisco     NaN  \n",
       "3  2011    NaN  San Francisco     NaN  \n",
       "4  2011    NaN  San Francisco     NaN  "
      ]
     },
     "execution_count": 1,
     "metadata": {},
     "output_type": "execute_result"
    }
   ],
   "source": [
    "import numpy as np\n",
    "import pandas as pd\n",
    "\n",
    "sal_df = pd.read_csv(\"../data/Salaries.csv\")\n",
    "sal_df.head()"
   ]
  },
  {
   "cell_type": "code",
   "execution_count": 2,
   "id": "645a8233",
   "metadata": {},
   "outputs": [
    {
     "name": "stdout",
     "output_type": "stream",
     "text": [
      "Year\n",
      "2011    71744.103871\n",
      "2012    74113.262265\n",
      "2013    77611.443142\n",
      "2014    75463.918140\n",
      "Name: TotalPay, dtype: float64\n"
     ]
    }
   ],
   "source": [
    "valueMeanOfJobTitle = sal_df.groupby('Year')['TotalPay'].mean()\n",
    "print(valueMeanOfJobTitle)"
   ]
  },
  {
   "cell_type": "markdown",
   "id": "47a64743",
   "metadata": {},
   "source": [
    "Bài 2. Hãy dùng hàm `groupby` để hiển thị tổng lương (TotalPay) theo năm. Sắp xếp theo thứ tự giảm dần."
   ]
  },
  {
   "cell_type": "code",
   "execution_count": 3,
   "id": "379ee1b7",
   "metadata": {},
   "outputs": [
    {
     "name": "stdout",
     "output_type": "stream",
     "text": [
      "Year\n",
      "2013    2.918656e+09\n",
      "2014    2.876911e+09\n",
      "2012    2.724848e+09\n",
      "2011    2.594195e+09\n",
      "Name: TotalPay, dtype: float64\n"
     ]
    }
   ],
   "source": [
    "totalPay = sal_df.groupby('Year')['TotalPay'].sum().sort_values(ascending = False)\n",
    "print(totalPay)"
   ]
  },
  {
   "cell_type": "markdown",
   "id": "16d16e8b",
   "metadata": {},
   "source": [
    "Bài 3. Hiển thị số lượng công việc khác nhau trong dataframe `sal_df`."
   ]
  },
  {
   "cell_type": "code",
   "execution_count": 4,
   "id": "db7efe6a",
   "metadata": {},
   "outputs": [
    {
     "name": "stdout",
     "output_type": "stream",
     "text": [
      "2159\n"
     ]
    }
   ],
   "source": [
    "manyJob = sal_df['JobTitle'].unique()\n",
    "print(len(manyJob))\n"
   ]
  },
  {
   "cell_type": "markdown",
   "id": "acf5f5ed",
   "metadata": {},
   "source": [
    "Bài 4. Điền giá trị 0.0 cho các ô trống trong `sal_df`."
   ]
  },
  {
   "cell_type": "code",
   "execution_count": 5,
   "id": "12fbb7e1",
   "metadata": {},
   "outputs": [
    {
     "name": "stdout",
     "output_type": "stream",
     "text": [
      "           Id  EmployeeName  JobTitle  BasePay  OvertimePay  OtherPay  \\\n",
      "0       False         False     False    False        False     False   \n",
      "1       False         False     False    False        False     False   \n",
      "2       False         False     False    False        False     False   \n",
      "3       False         False     False    False        False     False   \n",
      "4       False         False     False    False        False     False   \n",
      "...       ...           ...       ...      ...          ...       ...   \n",
      "148649  False         False     False    False        False     False   \n",
      "148650  False         False     False     True         True      True   \n",
      "148651  False         False     False     True         True      True   \n",
      "148652  False         False     False     True         True      True   \n",
      "148653  False         False     False    False        False     False   \n",
      "\n",
      "        Benefits  TotalPay  TotalPayBenefits   Year  Notes  Agency  Status  \n",
      "0           True     False             False  False   True   False    True  \n",
      "1           True     False             False  False   True   False    True  \n",
      "2           True     False             False  False   True   False    True  \n",
      "3           True     False             False  False   True   False    True  \n",
      "4           True     False             False  False   True   False    True  \n",
      "...          ...       ...               ...    ...    ...     ...     ...  \n",
      "148649     False     False             False  False   True   False    True  \n",
      "148650      True     False             False  False   True   False    True  \n",
      "148651      True     False             False  False   True   False    True  \n",
      "148652      True     False             False  False   True   False    True  \n",
      "148653     False     False             False  False   True   False    True  \n",
      "\n",
      "[148654 rows x 13 columns]\n"
     ]
    }
   ],
   "source": [
    "# kt xem còn có giá trị NaN hay k?\n",
    "sal_df.fillna(0.0)\n",
    "\n",
    "print(sal_df.isna())"
   ]
  },
  {
   "cell_type": "markdown",
   "id": "b0b160a7",
   "metadata": {},
   "source": [
    "Bài 5. Tìm tên nhân viên có mức lương cao"
   ]
  },
  {
   "cell_type": "code",
   "execution_count": 6,
   "id": "3e854d8f",
   "metadata": {},
   "outputs": [
    {
     "name": "stdout",
     "output_type": "stream",
     "text": [
      "NATHANIEL FORD\n"
     ]
    }
   ],
   "source": [
    "max_salary = sal_df['TotalPay'].max()\n",
    "max_salary_employee = sal_df.loc[sal_df['TotalPay'] == max_salary, 'EmployeeName'].iloc[0]\n",
    "print(max_salary_employee)"
   ]
  },
  {
   "cell_type": "markdown",
   "id": "72fd981b",
   "metadata": {},
   "source": [
    "Bài 6. Vẽ đồ thị dạng histogram của tiền lương ngoài giờ (OvertimePay)."
   ]
  },
  {
   "cell_type": "code",
   "execution_count": 11,
   "id": "a7f873ff",
   "metadata": {},
   "outputs": [
    {
     "data": {
      "image/png": "[encoded data removed]",
      "text/plain": [
       "<Figure size 640x480 with 1 Axes>"
      ]
     },
     "metadata": {},
     "output_type": "display_data"
    }
   ],
   "source": [
    "import matplotlib.pyplot as plt\n",
    "\n",
    "# Vẽ đồ thị histogram của cột \"OvertimePay\"\n",
    "plt.hist(sal_df['OvertimePay'], bins=20)\n",
    "plt.xlabel('Overtime Pay')\n",
    "plt.title('Histogram')\n",
    "plt.show()"
   ]
  },
  {
   "cell_type": "markdown",
   "id": "1b9ca030",
   "metadata": {},
   "source": [
    "Bài 7. Hợp nhất 2 df từ 2 bảng `orders` và `customers` theo các `customer_id`."
   ]
  },
  {
   "cell_type": "code",
   "execution_count": 41,
   "id": "6cacbc08",
   "metadata": {},
   "outputs": [
    {
     "data": {
      "text/html": [
       "<div>\n",
       "<style scoped>\n",
       "    .dataframe tbody tr th:only-of-type {\n",
       "        vertical-align: middle;\n",
       "    }\n",
       "\n",
       "    .dataframe tbody tr th {\n",
       "        vertical-align: top;\n",
       "    }\n",
       "\n",
       "    .dataframe thead th {\n",
       "        text-align: right;\n",
       "    }\n",
       "</style>\n",
       "<table border=\"1\" class=\"dataframe\">\n",
       "  <thead>\n",
       "    <tr style=\"text-align: right;\">\n",
       "      <th></th>\n",
       "      <th>id</th>\n",
       "      <th>customer_id</th>\n",
       "      <th>product_id</th>\n",
       "      <th>delivery_country</th>\n",
       "      <th>name</th>\n",
       "      <th>billing_country</th>\n",
       "    </tr>\n",
       "  </thead>\n",
       "  <tbody>\n",
       "    <tr>\n",
       "      <th>0</th>\n",
       "      <td>0</td>\n",
       "      <td>1866</td>\n",
       "      <td>686</td>\n",
       "      <td>India</td>\n",
       "      <td>Anangam Ramamuthe</td>\n",
       "      <td>India</td>\n",
       "    </tr>\n",
       "    <tr>\n",
       "      <th>1</th>\n",
       "      <td>1</td>\n",
       "      <td>1921</td>\n",
       "      <td>617</td>\n",
       "      <td>China</td>\n",
       "      <td>Tsung Xiang-ling</td>\n",
       "      <td>China</td>\n",
       "    </tr>\n",
       "    <tr>\n",
       "      <th>2</th>\n",
       "      <td>1</td>\n",
       "      <td>1921</td>\n",
       "      <td>54</td>\n",
       "      <td>Armenia</td>\n",
       "      <td>Tsung Xiang-ling</td>\n",
       "      <td>China</td>\n",
       "    </tr>\n",
       "    <tr>\n",
       "      <th>3</th>\n",
       "      <td>1</td>\n",
       "      <td>1921</td>\n",
       "      <td>566</td>\n",
       "      <td>China</td>\n",
       "      <td>Tsung Xiang-ling</td>\n",
       "      <td>China</td>\n",
       "    </tr>\n",
       "    <tr>\n",
       "      <th>4</th>\n",
       "      <td>1</td>\n",
       "      <td>1921</td>\n",
       "      <td>128</td>\n",
       "      <td>Lebanon</td>\n",
       "      <td>Tsung Xiang-ling</td>\n",
       "      <td>China</td>\n",
       "    </tr>\n",
       "    <tr>\n",
       "      <th>...</th>\n",
       "      <td>...</td>\n",
       "      <td>...</td>\n",
       "      <td>...</td>\n",
       "      <td>...</td>\n",
       "      <td>...</td>\n",
       "      <td>...</td>\n",
       "    </tr>\n",
       "    <tr>\n",
       "      <th>1995</th>\n",
       "      <td>997</td>\n",
       "      <td>1866</td>\n",
       "      <td>735</td>\n",
       "      <td>India</td>\n",
       "      <td>Anangam Ramamuthe</td>\n",
       "      <td>India</td>\n",
       "    </tr>\n",
       "    <tr>\n",
       "      <th>1996</th>\n",
       "      <td>997</td>\n",
       "      <td>1866</td>\n",
       "      <td>173</td>\n",
       "      <td>Serbia</td>\n",
       "      <td>Anangam Ramamuthe</td>\n",
       "      <td>India</td>\n",
       "    </tr>\n",
       "    <tr>\n",
       "      <th>1997</th>\n",
       "      <td>997</td>\n",
       "      <td>1866</td>\n",
       "      <td>990</td>\n",
       "      <td>India</td>\n",
       "      <td>Anangam Ramamuthe</td>\n",
       "      <td>India</td>\n",
       "    </tr>\n",
       "    <tr>\n",
       "      <th>1998</th>\n",
       "      <td>998</td>\n",
       "      <td>1431</td>\n",
       "      <td>830</td>\n",
       "      <td>Hungry</td>\n",
       "      <td>Marcin Oja</td>\n",
       "      <td>Hungry</td>\n",
       "    </tr>\n",
       "    <tr>\n",
       "      <th>1999</th>\n",
       "      <td>999</td>\n",
       "      <td>1062</td>\n",
       "      <td>515</td>\n",
       "      <td>Czech Republic</td>\n",
       "      <td>Benjamin Snyder</td>\n",
       "      <td>Canada</td>\n",
       "    </tr>\n",
       "  </tbody>\n",
       "</table>\n",
       "<p>2000 rows × 6 columns</p>\n",
       "</div>"
      ],
      "text/plain": [
       "       id  customer_id  product_id delivery_country               name  \\\n",
       "0       0         1866         686            India  Anangam Ramamuthe   \n",
       "1       1         1921         617            China   Tsung Xiang-ling   \n",
       "2       1         1921          54          Armenia   Tsung Xiang-ling   \n",
       "3       1         1921         566            China   Tsung Xiang-ling   \n",
       "4       1         1921         128          Lebanon   Tsung Xiang-ling   \n",
       "...   ...          ...         ...              ...                ...   \n",
       "1995  997         1866         735            India  Anangam Ramamuthe   \n",
       "1996  997         1866         173           Serbia  Anangam Ramamuthe   \n",
       "1997  997         1866         990            India  Anangam Ramamuthe   \n",
       "1998  998         1431         830           Hungry         Marcin Oja   \n",
       "1999  999         1062         515   Czech Republic    Benjamin Snyder   \n",
       "\n",
       "     billing_country  \n",
       "0              India  \n",
       "1              China  \n",
       "2              China  \n",
       "3              China  \n",
       "4              China  \n",
       "...              ...  \n",
       "1995           India  \n",
       "1996           India  \n",
       "1997           India  \n",
       "1998          Hungry  \n",
       "1999          Canada  \n",
       "\n",
       "[2000 rows x 6 columns]"
      ]
     },
     "execution_count": 41,
     "metadata": {},
     "output_type": "execute_result"
    }
   ],
   "source": [
    "orders = pd.read_csv(\"../data/orders.csv\")\n",
    "customers = pd.read_csv(\"../data/customers.csv\")\n",
    "\n",
    "# orders.head()\n",
    "# customers.head()\n",
    "\n",
    "\n",
    "# merged_df = orders.set_index('customer_id').join(customers.set_index('customer_id'))\n",
    "# merged_df = orders.set_index('customer_id').join(customers.set_index('id'), rsuffix='_customer')\n",
    "# merged_df = pd.merge(orders, customers, left_on='customer_id', right_on='id')\n",
    "\n",
    "\n",
    "# merged_df\n",
    "\n",
    "customers = customers.rename(columns={'id': 'customer_id'})\n",
    "# customers.head()\n",
    "merged_df = orders.join(customers.set_index('customer_id'), on='customer_id')\n",
    "merged_df"
   ]
  },
  {
   "cell_type": "code",
   "execution_count": null,
   "id": "5ed9fa23",
   "metadata": {},
   "outputs": [],
   "source": []
  }
 ],
 "metadata": {
  "kernelspec": {
   "display_name": "Python 3 (ipykernel)",
   "language": "python",
   "name": "python3"
  },
  "language_info": {
   "codemirror_mode": {
    "name": "ipython",
    "version": 3
   },
   "file_extension": ".py",
   "mimetype": "text/x-python",
   "name": "python",
   "nbconvert_exporter": "python",
   "pygments_lexer": "ipython3",
   "version": "3.8.12"
  }
 },
 "nbformat": 4,
 "nbformat_minor": 5
}
